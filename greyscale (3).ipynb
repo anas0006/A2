{
 "cells": [
  {
   "cell_type": "code",
   "execution_count": 34,
   "metadata": {},
   "outputs": [
    {
     "data": {
      "text/plain": [
       "import java.io.File\n",
       "import javax.imageio.ImageIO\n",
       "import java.awt.Color\n",
       "pixels2gray: (red: Int, green: Int, blue: Int)Int\n",
       "makeGray: (img: java.awt.image.BufferedImage)java.awt.image.BufferedImage\n",
       "greyscale: (in: String, out: String)Boolean\n",
       "res27: Boolean = true\n"
      ]
     },
     "execution_count": 34,
     "metadata": {},
     "output_type": "execute_result"
    }
   ],
   "source": [
    "// mostly from https://gist.github.com/brooksandrew/c9c3ab6ba93ea03fb3fa1ecccef2607a\n",
    "\n",
    "import java.io.File\n",
    "import javax.imageio.ImageIO\n",
    "import java.awt.Color\n",
    "\n",
    "\n",
    "\n",
    "def pixels2gray(red: Int, green: Int, blue: Int): Int = (red + green + blue) / 3\n",
    "  \n",
    "def makeGray(img: java.awt.image.BufferedImage): java.awt.image.BufferedImage = {\n",
    "    val w = img.getWidth\n",
    "    val h = img.getHeight\n",
    "    for { w1 <- (0 until w).toVector\n",
    "        h1 <- (0 until h).toVector\n",
    "        } yield {\n",
    "        val col = img.getRGB(w1, h1)\n",
    "        val red =  (col & 0xff0000) / 65536\n",
    "        val green = (col & 0xff00) / 256\n",
    "        val blue = (col & 0xff)\n",
    "        val graycol = pixels2gray(red, green, blue)\n",
    "        img.setRGB(w1, h1, new Color(graycol, graycol, graycol).getRGB)  \n",
    "        }\n",
    "        img\n",
    "        }\n",
    "\n",
    "def greyscale(in: String, out:String): Boolean = {\n",
    "  val myimg = ImageIO.read(new File(in)) \n",
    "  val myimgGray = makeGray(myimg)\n",
    "  ImageIO.write(myimgGray, \"jpg\", new File(out))\n",
    "}\n",
    "\n",
    "\n",
    "// function below\n",
    "greyscale(\"./greytest/image_01_02_0001.jpg\",\"./greytest/image_01_02_0001.jpg\")   \n"
   ]
  },
  {
   "cell_type": "code",
   "execution_count": null,
   "metadata": {},
   "outputs": [],
   "source": []
  }
 ],
 "metadata": {
  "kernelspec": {
   "display_name": "spylon-kernel",
   "language": "scala",
   "name": "spylon-kernel"
  },
  "language_info": {
   "codemirror_mode": "text/x-scala",
   "file_extension": ".scala",
   "help_links": [
    {
     "text": "MetaKernel Magics",
     "url": "https://metakernel.readthedocs.io/en/latest/source/README.html"
    }
   ],
   "mimetype": "text/x-scala",
   "name": "scala",
   "pygments_lexer": "scala",
   "version": "0.4.1"
  }
 },
 "nbformat": 4,
 "nbformat_minor": 2
}
